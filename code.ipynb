{
 "cells": [
  {
   "cell_type": "code",
   "execution_count": 1,
   "id": "fac3647b-568f-45fa-a79e-c5a2af421bea",
   "metadata": {},
   "outputs": [],
   "source": [
    "import numpy as np\n",
    "import matplotlib.pyplot as plt\n",
    "import seaborn as sns\n",
    "import pandas as pd\n",
    "from sklearn.decomposition import PCA"
   ]
  },
  {
   "cell_type": "code",
   "execution_count": 2,
   "id": "9e585d38-19a5-4bcb-bdab-97471c9058b2",
   "metadata": {},
   "outputs": [
    {
     "data": {
      "text/html": [
       "<div>\n",
       "<style scoped>\n",
       "    .dataframe tbody tr th:only-of-type {\n",
       "        vertical-align: middle;\n",
       "    }\n",
       "\n",
       "    .dataframe tbody tr th {\n",
       "        vertical-align: top;\n",
       "    }\n",
       "\n",
       "    .dataframe thead th {\n",
       "        text-align: right;\n",
       "    }\n",
       "</style>\n",
       "<table border=\"1\" class=\"dataframe\">\n",
       "  <thead>\n",
       "    <tr style=\"text-align: right;\">\n",
       "      <th></th>\n",
       "      <th>TweetID</th>\n",
       "      <th>Day</th>\n",
       "      <th>Hour</th>\n",
       "      <th>Lang</th>\n",
       "      <th>IsReshare</th>\n",
       "      <th>Reach</th>\n",
       "      <th>RetweetCount</th>\n",
       "      <th>Likes</th>\n",
       "      <th>Sentiment</th>\n",
       "      <th>text</th>\n",
       "      <th>LocationID</th>\n",
       "      <th>UserID</th>\n",
       "    </tr>\n",
       "  </thead>\n",
       "  <tbody>\n",
       "    <tr>\n",
       "      <th>99996</th>\n",
       "      <td>NaN</td>\n",
       "      <td>NaN</td>\n",
       "      <td>NaN</td>\n",
       "      <td>NaN</td>\n",
       "      <td>NaN</td>\n",
       "      <td>NaN</td>\n",
       "      <td>NaN</td>\n",
       "      <td>NaN</td>\n",
       "      <td>NaN</td>\n",
       "      <td>NaN</td>\n",
       "      <td>NaN</td>\n",
       "      <td>NaN</td>\n",
       "    </tr>\n",
       "    <tr>\n",
       "      <th>99997</th>\n",
       "      <td>NaN</td>\n",
       "      <td>NaN</td>\n",
       "      <td>NaN</td>\n",
       "      <td>NaN</td>\n",
       "      <td>NaN</td>\n",
       "      <td>NaN</td>\n",
       "      <td>NaN</td>\n",
       "      <td>NaN</td>\n",
       "      <td>NaN</td>\n",
       "      <td>NaN</td>\n",
       "      <td>NaN</td>\n",
       "      <td>NaN</td>\n",
       "    </tr>\n",
       "    <tr>\n",
       "      <th>99998</th>\n",
       "      <td>NaN</td>\n",
       "      <td>NaN</td>\n",
       "      <td>NaN</td>\n",
       "      <td>NaN</td>\n",
       "      <td>NaN</td>\n",
       "      <td>NaN</td>\n",
       "      <td>NaN</td>\n",
       "      <td>NaN</td>\n",
       "      <td>NaN</td>\n",
       "      <td>NaN</td>\n",
       "      <td>NaN</td>\n",
       "      <td>NaN</td>\n",
       "    </tr>\n",
       "    <tr>\n",
       "      <th>99999</th>\n",
       "      <td>NaN</td>\n",
       "      <td>NaN</td>\n",
       "      <td>NaN</td>\n",
       "      <td>NaN</td>\n",
       "      <td>NaN</td>\n",
       "      <td>NaN</td>\n",
       "      <td>NaN</td>\n",
       "      <td>NaN</td>\n",
       "      <td>NaN</td>\n",
       "      <td>NaN</td>\n",
       "      <td>NaN</td>\n",
       "      <td>NaN</td>\n",
       "    </tr>\n",
       "    <tr>\n",
       "      <th>100000</th>\n",
       "      <td>NaN</td>\n",
       "      <td>NaN</td>\n",
       "      <td>NaN</td>\n",
       "      <td>NaN</td>\n",
       "      <td>NaN</td>\n",
       "      <td>NaN</td>\n",
       "      <td>NaN</td>\n",
       "      <td>NaN</td>\n",
       "      <td>NaN</td>\n",
       "      <td>NaN</td>\n",
       "      <td>NaN</td>\n",
       "      <td>NaN</td>\n",
       "    </tr>\n",
       "  </tbody>\n",
       "</table>\n",
       "</div>"
      ],
      "text/plain": [
       "       TweetID  Day   Hour  Lang  IsReshare   Reach   RetweetCount   Likes   Sentiment  text   LocationID  UserID\n",
       "99996      NaN  NaN    NaN   NaN        NaN     NaN            NaN     NaN         NaN   NaN          NaN     NaN\n",
       "99997      NaN  NaN    NaN   NaN        NaN     NaN            NaN     NaN         NaN   NaN          NaN     NaN\n",
       "99998      NaN  NaN    NaN   NaN        NaN     NaN            NaN     NaN         NaN   NaN          NaN     NaN\n",
       "99999      NaN  NaN    NaN   NaN        NaN     NaN            NaN     NaN         NaN   NaN          NaN     NaN\n",
       "100000     NaN  NaN    NaN   NaN        NaN     NaN            NaN     NaN         NaN   NaN          NaN     NaN"
      ]
     },
     "execution_count": 2,
     "metadata": {},
     "output_type": "execute_result"
    }
   ],
   "source": [
    "df = pd.read_csv(r\"./Twitter_df.csv\", header=0, low_memory=False)\n",
    "df.tail()"
   ]
  },
  {
   "cell_type": "code",
   "execution_count": 3,
   "id": "43c61bfb-40ca-40d9-be60-8b8dbef15e5d",
   "metadata": {},
   "outputs": [
    {
     "data": {
      "text/html": [
       "<div>\n",
       "<style scoped>\n",
       "    .dataframe tbody tr th:only-of-type {\n",
       "        vertical-align: middle;\n",
       "    }\n",
       "\n",
       "    .dataframe tbody tr th {\n",
       "        vertical-align: top;\n",
       "    }\n",
       "\n",
       "    .dataframe thead th {\n",
       "        text-align: right;\n",
       "    }\n",
       "</style>\n",
       "<table border=\"1\" class=\"dataframe\">\n",
       "  <thead>\n",
       "    <tr style=\"text-align: right;\">\n",
       "      <th></th>\n",
       "      <th>TweetID</th>\n",
       "      <th>Day</th>\n",
       "      <th>Hour</th>\n",
       "      <th>Lang</th>\n",
       "      <th>IsReshare</th>\n",
       "      <th>Reach</th>\n",
       "      <th>RetweetCount</th>\n",
       "      <th>Likes</th>\n",
       "      <th>Sentiment</th>\n",
       "      <th>text</th>\n",
       "      <th>LocationID</th>\n",
       "      <th>UserID</th>\n",
       "    </tr>\n",
       "  </thead>\n",
       "  <tbody>\n",
       "    <tr>\n",
       "      <th>994</th>\n",
       "      <td>tw-683739842673520640</td>\n",
       "      <td>Sunday</td>\n",
       "      <td>13.0</td>\n",
       "      <td>en</td>\n",
       "      <td>False</td>\n",
       "      <td>17422.0</td>\n",
       "      <td>0.0</td>\n",
       "      <td>0.0</td>\n",
       "      <td>0.0</td>\n",
       "      <td>Ace the Amazon Web Services Certification Exam...</td>\n",
       "      <td>82.0</td>\n",
       "      <td>tw-22445925</td>\n",
       "    </tr>\n",
       "    <tr>\n",
       "      <th>995</th>\n",
       "      <td>tw-683740297575051265</td>\n",
       "      <td>Sunday</td>\n",
       "      <td>13.0</td>\n",
       "      <td>en</td>\n",
       "      <td>False</td>\n",
       "      <td>710.0</td>\n",
       "      <td>0.0</td>\n",
       "      <td>0.0</td>\n",
       "      <td>0.0</td>\n",
       "      <td>@shfitriah aws .. English  stfu</td>\n",
       "      <td>1885.0</td>\n",
       "      <td>tw-552022479</td>\n",
       "    </tr>\n",
       "    <tr>\n",
       "      <th>996</th>\n",
       "      <td>tw-683741220896641025</td>\n",
       "      <td>Sunday</td>\n",
       "      <td>13.0</td>\n",
       "      <td>en</td>\n",
       "      <td>True</td>\n",
       "      <td>1691.0</td>\n",
       "      <td>103.0</td>\n",
       "      <td>0.0</td>\n",
       "      <td>0.0</td>\n",
       "      <td>RT @docker: Deploy Docker on AWS easily with t...</td>\n",
       "      <td>5394.0</td>\n",
       "      <td>tw-17711081</td>\n",
       "    </tr>\n",
       "  </tbody>\n",
       "</table>\n",
       "</div>"
      ],
      "text/plain": [
       "                   TweetID     Day   Hour  Lang  IsReshare    Reach  \\\n",
       "994  tw-683739842673520640  Sunday   13.0    en      False  17422.0   \n",
       "995  tw-683740297575051265  Sunday   13.0    en      False    710.0   \n",
       "996  tw-683741220896641025  Sunday   13.0    en       True   1691.0   \n",
       "\n",
       "      RetweetCount   Likes   Sentiment  \\\n",
       "994            0.0     0.0         0.0   \n",
       "995            0.0     0.0         0.0   \n",
       "996          103.0     0.0         0.0   \n",
       "\n",
       "                                                  text   LocationID  \\\n",
       "994  Ace the Amazon Web Services Certification Exam...         82.0   \n",
       "995                    @shfitriah aws .. English  stfu       1885.0   \n",
       "996  RT @docker: Deploy Docker on AWS easily with t...       5394.0   \n",
       "\n",
       "           UserID  \n",
       "994   tw-22445925  \n",
       "995  tw-552022479  \n",
       "996   tw-17711081  "
      ]
     },
     "execution_count": 3,
     "metadata": {},
     "output_type": "execute_result"
    }
   ],
   "source": [
    "df.dropna(axis=0, how='any', inplace=True)\n",
    "df.reset_index(drop=True, inplace=True)\n",
    "df.tail(3)"
   ]
  },
  {
   "cell_type": "code",
   "execution_count": 4,
   "id": "9d52b798-0dbd-43cb-a5fb-403b3e330c41",
   "metadata": {},
   "outputs": [
    {
     "data": {
      "text/html": [
       "<div>\n",
       "<style scoped>\n",
       "    .dataframe tbody tr th:only-of-type {\n",
       "        vertical-align: middle;\n",
       "    }\n",
       "\n",
       "    .dataframe tbody tr th {\n",
       "        vertical-align: top;\n",
       "    }\n",
       "\n",
       "    .dataframe thead th {\n",
       "        text-align: right;\n",
       "    }\n",
       "</style>\n",
       "<table border=\"1\" class=\"dataframe\">\n",
       "  <thead>\n",
       "    <tr style=\"text-align: right;\">\n",
       "      <th></th>\n",
       "      <th>TweetID</th>\n",
       "      <th>Day</th>\n",
       "      <th>Hour</th>\n",
       "      <th>Reach</th>\n",
       "      <th>RetweetCount</th>\n",
       "      <th>Sentiment</th>\n",
       "      <th>LocationID</th>\n",
       "    </tr>\n",
       "  </thead>\n",
       "  <tbody>\n",
       "    <tr>\n",
       "      <th>994</th>\n",
       "      <td>tw-683739842673520640</td>\n",
       "      <td>Sunday</td>\n",
       "      <td>13.0</td>\n",
       "      <td>17422.0</td>\n",
       "      <td>0.0</td>\n",
       "      <td>0.0</td>\n",
       "      <td>82.0</td>\n",
       "    </tr>\n",
       "    <tr>\n",
       "      <th>995</th>\n",
       "      <td>tw-683740297575051265</td>\n",
       "      <td>Sunday</td>\n",
       "      <td>13.0</td>\n",
       "      <td>710.0</td>\n",
       "      <td>0.0</td>\n",
       "      <td>0.0</td>\n",
       "      <td>1885.0</td>\n",
       "    </tr>\n",
       "    <tr>\n",
       "      <th>996</th>\n",
       "      <td>tw-683741220896641025</td>\n",
       "      <td>Sunday</td>\n",
       "      <td>13.0</td>\n",
       "      <td>1691.0</td>\n",
       "      <td>103.0</td>\n",
       "      <td>0.0</td>\n",
       "      <td>5394.0</td>\n",
       "    </tr>\n",
       "  </tbody>\n",
       "</table>\n",
       "</div>"
      ],
      "text/plain": [
       "                   TweetID     Day   Hour    Reach   RetweetCount   Sentiment  \\\n",
       "994  tw-683739842673520640  Sunday   13.0  17422.0            0.0         0.0   \n",
       "995  tw-683740297575051265  Sunday   13.0    710.0            0.0         0.0   \n",
       "996  tw-683741220896641025  Sunday   13.0   1691.0          103.0         0.0   \n",
       "\n",
       "      LocationID  \n",
       "994         82.0  \n",
       "995       1885.0  \n",
       "996       5394.0  "
      ]
     },
     "execution_count": 4,
     "metadata": {},
     "output_type": "execute_result"
    }
   ],
   "source": [
    "df.drop(labels=[' Lang', ' IsReshare', ' Likes', ' text', ' UserID'], axis=1, inplace=True)\n",
    "df.tail(3)"
   ]
  },
  {
   "cell_type": "code",
   "execution_count": 5,
   "id": "44af7c7d-1b97-4bf9-ac18-b48325d60d41",
   "metadata": {},
   "outputs": [
    {
     "data": {
      "text/html": [
       "<div>\n",
       "<style scoped>\n",
       "    .dataframe tbody tr th:only-of-type {\n",
       "        vertical-align: middle;\n",
       "    }\n",
       "\n",
       "    .dataframe tbody tr th {\n",
       "        vertical-align: top;\n",
       "    }\n",
       "\n",
       "    .dataframe thead th {\n",
       "        text-align: right;\n",
       "    }\n",
       "</style>\n",
       "<table border=\"1\" class=\"dataframe\">\n",
       "  <thead>\n",
       "    <tr style=\"text-align: right;\">\n",
       "      <th></th>\n",
       "      <th>TweetID</th>\n",
       "      <th>Day</th>\n",
       "      <th>Hour</th>\n",
       "      <th>Reach</th>\n",
       "      <th>RetweetCount</th>\n",
       "      <th>Sentiment</th>\n",
       "      <th>LocationID</th>\n",
       "    </tr>\n",
       "  </thead>\n",
       "  <tbody>\n",
       "    <tr>\n",
       "      <th>994</th>\n",
       "      <td>683739842673520640</td>\n",
       "      <td>Sunday</td>\n",
       "      <td>13.0</td>\n",
       "      <td>17422.0</td>\n",
       "      <td>0.0</td>\n",
       "      <td>0.0</td>\n",
       "      <td>82.0</td>\n",
       "    </tr>\n",
       "    <tr>\n",
       "      <th>995</th>\n",
       "      <td>683740297575051265</td>\n",
       "      <td>Sunday</td>\n",
       "      <td>13.0</td>\n",
       "      <td>710.0</td>\n",
       "      <td>0.0</td>\n",
       "      <td>0.0</td>\n",
       "      <td>1885.0</td>\n",
       "    </tr>\n",
       "    <tr>\n",
       "      <th>996</th>\n",
       "      <td>683741220896641025</td>\n",
       "      <td>Sunday</td>\n",
       "      <td>13.0</td>\n",
       "      <td>1691.0</td>\n",
       "      <td>103.0</td>\n",
       "      <td>0.0</td>\n",
       "      <td>5394.0</td>\n",
       "    </tr>\n",
       "  </tbody>\n",
       "</table>\n",
       "</div>"
      ],
      "text/plain": [
       "                TweetID     Day   Hour    Reach   RetweetCount   Sentiment  \\\n",
       "994  683739842673520640  Sunday   13.0  17422.0            0.0         0.0   \n",
       "995  683740297575051265  Sunday   13.0    710.0            0.0         0.0   \n",
       "996  683741220896641025  Sunday   13.0   1691.0          103.0         0.0   \n",
       "\n",
       "      LocationID  \n",
       "994         82.0  \n",
       "995       1885.0  \n",
       "996       5394.0  "
      ]
     },
     "execution_count": 5,
     "metadata": {},
     "output_type": "execute_result"
    }
   ],
   "source": [
    "df['TweetID'] = pd.Series([int(each[3:]) for each in df['TweetID'].tolist()], name='TweetID')\n",
    "df.tail(3)"
   ]
  },
  {
   "cell_type": "code",
   "execution_count": 6,
   "id": "8a06b210-3b3d-4725-bf33-5136de0719ce",
   "metadata": {},
   "outputs": [
    {
     "data": {
      "text/html": [
       "<div>\n",
       "<style scoped>\n",
       "    .dataframe tbody tr th:only-of-type {\n",
       "        vertical-align: middle;\n",
       "    }\n",
       "\n",
       "    .dataframe tbody tr th {\n",
       "        vertical-align: top;\n",
       "    }\n",
       "\n",
       "    .dataframe thead th {\n",
       "        text-align: right;\n",
       "    }\n",
       "</style>\n",
       "<table border=\"1\" class=\"dataframe\">\n",
       "  <thead>\n",
       "    <tr style=\"text-align: right;\">\n",
       "      <th></th>\n",
       "      <th>TweetID</th>\n",
       "      <th>Hour</th>\n",
       "      <th>Reach</th>\n",
       "      <th>RetweetCount</th>\n",
       "      <th>Sentiment</th>\n",
       "      <th>LocationID</th>\n",
       "    </tr>\n",
       "    <tr>\n",
       "      <th>Day</th>\n",
       "      <th></th>\n",
       "      <th></th>\n",
       "      <th></th>\n",
       "      <th></th>\n",
       "      <th></th>\n",
       "      <th></th>\n",
       "    </tr>\n",
       "  </thead>\n",
       "  <tbody>\n",
       "    <tr>\n",
       "      <th>Friday</th>\n",
       "      <td>383</td>\n",
       "      <td>383</td>\n",
       "      <td>383</td>\n",
       "      <td>383</td>\n",
       "      <td>383</td>\n",
       "      <td>383</td>\n",
       "    </tr>\n",
       "    <tr>\n",
       "      <th>Saturday</th>\n",
       "      <td>322</td>\n",
       "      <td>322</td>\n",
       "      <td>322</td>\n",
       "      <td>322</td>\n",
       "      <td>322</td>\n",
       "      <td>322</td>\n",
       "    </tr>\n",
       "    <tr>\n",
       "      <th>Sunday</th>\n",
       "      <td>201</td>\n",
       "      <td>201</td>\n",
       "      <td>201</td>\n",
       "      <td>201</td>\n",
       "      <td>201</td>\n",
       "      <td>201</td>\n",
       "    </tr>\n",
       "    <tr>\n",
       "      <th>Thursday</th>\n",
       "      <td>91</td>\n",
       "      <td>91</td>\n",
       "      <td>91</td>\n",
       "      <td>91</td>\n",
       "      <td>91</td>\n",
       "      <td>91</td>\n",
       "    </tr>\n",
       "  </tbody>\n",
       "</table>\n",
       "</div>"
      ],
      "text/plain": [
       "          TweetID   Hour   Reach   RetweetCount   Sentiment   LocationID\n",
       "Day                                                                     \n",
       "Friday        383    383     383            383         383          383\n",
       "Saturday      322    322     322            322         322          322\n",
       "Sunday        201    201     201            201         201          201\n",
       "Thursday       91     91      91             91          91           91"
      ]
     },
     "execution_count": 6,
     "metadata": {},
     "output_type": "execute_result"
    }
   ],
   "source": [
    "df.groupby('Day').count()"
   ]
  },
  {
   "cell_type": "code",
   "execution_count": 7,
   "id": "c353f3eb-91e8-4377-89c1-d16c92f22e8d",
   "metadata": {},
   "outputs": [],
   "source": [
    "df_X, df_Y = df.loc[:, ~df.columns.isin(['Day'])], df.loc[:, ['Day']]\n",
    "X, Y = df_X.to_numpy(), df_Y.to_numpy().reshape(-1)"
   ]
  },
  {
   "cell_type": "code",
   "execution_count": 8,
   "id": "22c8194d-54dd-4ac4-a5ca-7ba50255ad58",
   "metadata": {},
   "outputs": [],
   "source": [
    "from sklearn.preprocessing import MinMaxScaler as scale\n",
    "X[:,:] = scale().fit_transform(X[:,:])"
   ]
  },
  {
   "cell_type": "code",
   "execution_count": 9,
   "id": "81cd2946-5347-4e1f-9031-55719d820ae4",
   "metadata": {},
   "outputs": [],
   "source": [
    "from scipy.cluster.hierarchy import dendrogram, linkage\n",
    "\n",
    "def plot_dendrogram(Type, threshold):\n",
    "    plt.figure(figsize=(15,8))\n",
    "    dn = dendrogram(linkage(X, Type), leaf_rotation=45, leaf_font_size=2,\n",
    "                    above_threshold_color=\"#eeeeee\", color_threshold=threshold, orientation='right')\n",
    "    plt.axvline(x=threshold, c='grey', linestyle='dashed')\n",
    "    plt.show()\n"
   ]
  },
  {
   "cell_type": "code",
   "execution_count": 10,
   "id": "2998d37a-e078-44ea-8e58-698259d621b4",
   "metadata": {},
   "outputs": [
    {
     "data": {
      "image/png": "[encoded data removed]",
      "text/plain": [
       "<Figure size 1080x576 with 1 Axes>"
      ]
     },
     "metadata": {
      "needs_background": "light"
     },
     "output_type": "display_data"
    }
   ],
   "source": [
    "plot_dendrogram(Type='single', threshold=0.32)"
   ]
  },
  {
   "cell_type": "code",
   "execution_count": 11,
   "id": "8baa8db4-9b74-4799-a9e9-ba5f8f4959bc",
   "metadata": {},
   "outputs": [
    {
     "data": {
      "image/png": "[encoded data removed]",
      "text/plain": [
       "<Figure size 1080x576 with 1 Axes>"
      ]
     },
     "metadata": {
      "needs_background": "light"
     },
     "output_type": "display_data"
    }
   ],
   "source": [
    "plot_dendrogram(Type='complete', threshold=1.32)"
   ]
  },
  {
   "cell_type": "code",
   "execution_count": 12,
   "id": "90eae5c0-2be0-4bbc-962e-65629e99779d",
   "metadata": {},
   "outputs": [],
   "source": [
    "from tqdm.notebook import tqdm\n",
    "from collections import Counter"
   ]
  },
  {
   "cell_type": "code",
   "execution_count": 13,
   "id": "d24f425e-4ccb-48f0-b017-7bc5afe795b5",
   "metadata": {},
   "outputs": [],
   "source": [
    "def euclidean_distance(i, j):\n",
    "    if i > j:\n",
    "        # lower triangle\n",
    "        x1, x2 = X[i], X[j]\n",
    "        res = 0.0\n",
    "        for k in range(len(x1)):\n",
    "            res += np.power(x1[k] - x2[k], 2)\n",
    "        return np.sqrt(res)\n",
    "    else:\n",
    "        # upper triangle and diagonal\n",
    "        return 0.0\n",
    "\n",
    "def most_similar(df):\n",
    "    dic = {'val': 1e9, 'i': -1, 'j': -1}\n",
    "    for i in range(len(df)):\n",
    "        for j in range(i):\n",
    "            if dic['val'] > df.iloc[i,j]:\n",
    "                dic['val'] = df.iloc[i,j]\n",
    "                dic['i'], dic['j'] = i, j\n",
    "    return dic['val'], dic['i'], dic['j']\n"
   ]
  },
  {
   "cell_type": "code",
   "execution_count": 14,
   "id": "66b37b8d-dcca-4faf-ad56-839dc1dbf165",
   "metadata": {},
   "outputs": [],
   "source": [
    "def clusters_by_threshold(X, Type):\n",
    "    if Type == 'single': threshold=0.32\n",
    "    elif Type == 'complete': threshold=1.32\n",
    "    else: raise Exception('use proper type')\n",
    "    \n",
    "    len_X = len(X)\n",
    "    dist = pd.DataFrame([[euclidean_distance(i, j) for j in range(len_X)] for i in range(len_X)],\n",
    "                        columns=[str(i+1) for i in range(len_X)], index=[str(i+1) for i in range(len_X)])\n",
    "    \n",
    "    for i in tqdm(range(len(dist)-1)):\n",
    "        d, i, j = most_similar(dist)\n",
    "        if d > threshold: break\n",
    "        \n",
    "        label = dist.columns[j]+','+dist.columns[i]\n",
    "        if Type == 'single':\n",
    "            clus_ij = pd.DataFrame([[min(dist.iloc[max(i,k),min(i,k)], dist.iloc[max(j,k),min(j,k)]) for k in range(len(dist)) if k not in [i, j]]])\n",
    "        else:\n",
    "            clus_ij = pd.DataFrame([[max(dist.iloc[max(i,k),min(i,k)], dist.iloc[max(j,k),min(j,k)]) for k in range(len(dist)) if k not in [i, j]]])\n",
    "\n",
    "        dist.drop(dist.index[[i,j]], axis=0, inplace=True)\n",
    "        dist.drop(dist.columns[[i,j]], axis=1, inplace=True)\n",
    "\n",
    "        clus_ij.index, clus_ij.columns = [label], dist.columns\n",
    "        dist = pd.concat([dist, clus_ij], axis=0)\n",
    "        dist[label]=0.0\n",
    "    \n",
    "    return [[int(idx)-1 for idx in each.split(',')] for each in dist.index.tolist()]\n"
   ]
  },
  {
   "cell_type": "code",
   "execution_count": 15,
   "id": "6bcbe7b7-4f19-4afc-bcfb-97cb92991036",
   "metadata": {},
   "outputs": [
    {
     "data": {
      "application/vnd.jupyter.widget-view+json": {
       "model_id": "a67baf151c824313a266413385baff0a",
       "version_major": 2,
       "version_minor": 0
      },
      "text/plain": [
       "  0%|          | 0/996 [00:00<?, ?it/s]"
      ]
     },
     "metadata": {},
     "output_type": "display_data"
    }
   ],
   "source": [
    "clusters = clusters_by_threshold(X, 'single')\n",
    "clusters_type = [Counter([Y[each] for each in clusters[i]]) for i in range(len(clusters))]"
   ]
  },
  {
   "cell_type": "code",
   "execution_count": 16,
   "id": "846242de-34f1-4eb6-864f-faa93c9ba60d",
   "metadata": {},
   "outputs": [
    {
     "name": "stdout",
     "output_type": "stream",
     "text": [
      "{'None': 8, 'Friday': 379, 'Sunday': 199, 'Saturday': 320, 'Thursday': 91}\n",
      "Accuracy = 99.198 %\n"
     ]
    }
   ],
   "source": [
    "dic = {'None': 0, 'Friday': 0, 'Sunday': 0, 'Saturday': 0, 'Thursday': 0}\n",
    "clus_day = {}\n",
    "clus_no = ['None'] * len(X)\n",
    "for i, each_clus in enumerate(cluss):\n",
    "    clus_name = 'clus_'+str(i+1)\n",
    "    for each in each_clus:\n",
    "        clus_no[each] = clus_name\n",
    "    most_occured, most_value = cluss_type[i].most_common(1)[0]\n",
    "    if dic[most_occured] < most_value:\n",
    "        dic['None'] += dic[most_occured]\n",
    "        dic[most_occured] = most_value\n",
    "        clus_day[most_occured] = clus_name\n",
    "    else:\n",
    "        dic['None'] += most_value\n",
    "clus_day = dic(zip(clus_day.values(),clus_day.keys()))\n",
    "print(dic)\n",
    "print('Accuracy =', np.round(100 - 100*dic['None']/sum(dic.values()), 3), '%')"
   ]
  },
  {
   "cell_type": "code",
   "execution_count": 20,
   "id": "1cc8a1b0-efc0-4844-bf3b-874262d44b40",
   "metadata": {},
   "outputs": [
    {
     "data": {
      "image/png": "[encoded data removed]",
      "text/plain": [
       "<Figure size 442.5x360 with 1 Axes>"
      ]
     },
     "metadata": {
      "needs_background": "light"
     },
     "output_type": "display_data"
    }
   ],
   "source": [
    "data_visualize = pd.DataFrame(PCA(2).fit_transform(X), columns=['X','Y'])\n",
    "data_visualize['hue'] = [cluster_day[each] if each in cluster_day.keys() else 'None' for each in cluster_no]\n",
    "sns.relplot(data=data_visualize, x='X', y='Y', hue='hue', palette=\"muted\")\n",
    "plt.show()"
   ]
  },
  {
   "cell_type": "code",
   "execution_count": 21,
   "id": "854ff4af-743e-42c8-a3c2-6f587abcb1e6",
   "metadata": {},
   "outputs": [
    {
     "data": {
      "application/vnd.jupyter.widget-view+json": {
       "model_id": "0e5cc3f494a44bf2934e65f0f98015f7",
       "version_major": 2,
       "version_minor": 0
      },
      "text/plain": [
       "  0%|          | 0/996 [00:00<?, ?it/s]"
      ]
     },
     "metadata": {},
     "output_type": "display_data"
    }
   ],
   "source": [
    "clusters = get_the_clusters_by_threshold(X, 'complete')\n",
    "clusters_type = [Counter([Y[each] for each in clusters[i]]) for i in range(len(clusters))]"
   ]
  },
  {
   "cell_type": "code",
   "execution_count": 25,
   "id": "c386e8be-a27e-40ae-ba7f-b8c869273bd4",
   "metadata": {},
   "outputs": [
    {
     "name": "stdout",
     "output_type": "stream",
     "text": [
      "{'Friday': 1}\n",
      "{'Sunday': 48, 'Saturday': 100, 'Friday': 3}\n",
      "{'Friday': 155, 'Thursday': 91, 'Saturday': 88}\n",
      "{'Friday': 176, 'Saturday': 45, 'Sunday': 70}\n",
      "{'Saturday': 89, 'Sunday': 83, 'Friday': 48}\n",
      "{'None': 245, 'Friday': 176, 'Sunday': 0, 'Saturday': 100, 'Thursday': 0}\n",
      "Accuracy = 52.975 %\n"
     ]
    }
   ],
   "source": [
    "dic = {'None': 0, 'Friday': 0, 'Sunday': 0, 'Saturday': 0, 'Thursday': 0}\n",
    "clus_day = {}\n",
    "clus_no = ['None'] * len(X)\n",
    "for i, each_clus in enumerate(cluss):\n",
    "    clus_name = 'clus_'+str(i+1)\n",
    "    for each in each_clus:\n",
    "        clus_no[each] = clus_name\n",
    "    most_occured, most_value = cluss_type[i].most_common(1)[0]\n",
    "    if dic[most_occured] < most_value:\n",
    "        dic['None'] += dic[most_occured]\n",
    "        dic[most_occured] = most_value\n",
    "        clus_day[most_occured] = clus_name\n",
    "    else:\n",
    "        dic['None'] += most_value\n",
    "clus_day = dic(zip(clus_day.values(),clus_day.keys()))\n",
    "print(dic)\n",
    "print('Accuracy =', np.round(100 - 100*dic['None']/sum(dic.values()), 3), '%')"
   ]
  },
  {
   "cell_type": "code",
   "execution_count": 23,
   "id": "859f6ffd-2247-4564-b12a-3ea8fa300eeb",
   "metadata": {},
   "outputs": [
    {
     "data": {
      "image/png": "[encoded data removed]",
      "text/plain": [
       "<Figure size 441x360 with 1 Axes>"
      ]
     },
     "metadata": {
      "needs_background": "light"
     },
     "output_type": "display_data"
    }
   ],
   "source": [
    "data_visualize = pd.DataFrame(PCA(2).fit_transform(X), columns=['X','Y'])\n",
    "data_visualize['hue'] = [cluster_day[each] if each in cluster_day.keys() else 'None' for each in cluster_no]\n",
    "sns.relplot(data=data_visualize, x='X', y='Y', hue='hue', palette=\"muted\")\n",
    "plt.show()"
   ]
  },
  {
   "cell_type": "code",
   "execution_count": null,
   "id": "46edf0a3-44c6-42e0-a14e-2ad89abad8cb",
   "metadata": {},
   "outputs": [],
   "source": []
  }
 ],
 "metadata": {
  "kernelspec": {
   "display_name": "Python 3",
   "language": "python",
   "name": "python3"
  },
  "language_info": {
   "codemirror_mode": {
    "name": "ipython",
    "version": 3
   },
   "file_extension": ".py",
   "mimetype": "text/x-python",
   "name": "python",
   "nbconvert_exporter": "python",
   "pygments_lexer": "ipython3",
   "version": "3.8.8"
  }
 },
 "nbformat": 4,
 "nbformat_minor": 5
}
